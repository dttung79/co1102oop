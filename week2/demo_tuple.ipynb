{
 "cells": [
  {
   "cell_type": "code",
   "execution_count": 1,
   "metadata": {},
   "outputs": [
    {
     "name": "stdout",
     "output_type": "stream",
     "text": [
      "[1, 2, 3]\n",
      "(1, 2, 3)\n"
     ]
    }
   ],
   "source": [
    "a = [1, 2, 3] # list is mutable\n",
    "b = (1, 2, 3) # tuple is immutable\n",
    "print(a)\n",
    "print(b)"
   ]
  },
  {
   "cell_type": "code",
   "execution_count": 3,
   "metadata": {},
   "outputs": [
    {
     "name": "stdout",
     "output_type": "stream",
     "text": [
      "1 1\n",
      "[2, 3] (2, 3)\n"
     ]
    }
   ],
   "source": [
    "print(a[0], b[0])          # indexing\n",
    "print(a[1:3], b[1:3])      # slicing"
   ]
  },
  {
   "cell_type": "code",
   "execution_count": 4,
   "metadata": {},
   "outputs": [
    {
     "name": "stdout",
     "output_type": "stream",
     "text": [
      "[4, 2, 3]\n"
     ]
    }
   ],
   "source": [
    "a[0] = 4 # ok because list is mutable\n",
    "print(a)"
   ]
  },
  {
   "cell_type": "code",
   "execution_count": null,
   "metadata": {},
   "outputs": [],
   "source": [
    "b[0] = 4 # error because tuple is immutable\n",
    "print(b)"
   ]
  },
  {
   "cell_type": "code",
   "execution_count": 8,
   "metadata": {},
   "outputs": [
    {
     "name": "stdout",
     "output_type": "stream",
     "text": [
      "(2, 3)\n",
      "2 3\n"
     ]
    }
   ],
   "source": [
    "def increase(a, b):\n",
    "    a = a + 1\n",
    "    b = b + 1\n",
    "    return a, b   # a & b will be packed into a tuple\n",
    "\n",
    "x = increase(1, 2) # x is a tuple\n",
    "print(x)\n",
    "x, y = increase(1, 2) # x & y will be unpacked from the tuple\n",
    "print(x, y)"
   ]
  },
  {
   "cell_type": "code",
   "execution_count": 11,
   "metadata": {},
   "outputs": [
    {
     "name": "stdout",
     "output_type": "stream",
     "text": [
      "1\n",
      "[2, 3, 4]\n",
      "1 [2, 3] 4\n"
     ]
    }
   ],
   "source": [
    "def my_func():\n",
    "    return 1, 2, 3, 4\n",
    "\n",
    "x, *y = my_func()\n",
    "print(x)\n",
    "print(y)\n",
    "\n",
    "x, *y, z = my_func()\n",
    "print(x, y, z)"
   ]
  },
  {
   "cell_type": "code",
   "execution_count": null,
   "metadata": {},
   "outputs": [],
   "source": [
    "def sum_items(*items):\n",
    "    print(type(items))\n",
    "    s = 0\n",
    "    for i in items:\n",
    "        s += i\n",
    "    return s\n",
    "\n",
    "print(sum_items())          # pass nothing\n",
    "print(sum_items(1))         # pass 1 parameter\n",
    "print(sum_items(1, 2))      # pass 2 parameters\n",
    "print(sum_items(1, 2, 3))   # pass 3 parameters"
   ]
  },
  {
   "cell_type": "code",
   "execution_count": null,
   "metadata": {},
   "outputs": [],
   "source": [
    "# List comprenshion short: [expression for item in iterable]\n",
    "# List comprenshion long: [expression for item in iterable if condition]"
   ]
  },
  {
   "cell_type": "code",
   "execution_count": 19,
   "metadata": {},
   "outputs": [
    {
     "name": "stdout",
     "output_type": "stream",
     "text": [
      "[88, 65, 14, 64, 71, 27, 14, 82, 51, 40]\n"
     ]
    }
   ],
   "source": [
    "import random as rd\n",
    "numbers = [rd.randint(10, 99) for i in range(10)]\n",
    "print(numbers)"
   ]
  },
  {
   "cell_type": "code",
   "execution_count": 22,
   "metadata": {},
   "outputs": [
    {
     "name": "stdout",
     "output_type": "stream",
     "text": [
      "[8, 5, 4, 4, 1, 7, 4, 2, 1, 0]\n",
      "[8, 6, 1, 6, 7, 2, 1, 8, 5, 4]\n",
      "[-88, -65, -14, -64, -71, -27, -14, -82, -51, -40]\n"
     ]
    }
   ],
   "source": [
    "last_digits = [n % 10 for n in numbers]\n",
    "print(last_digits)\n",
    "\n",
    "# Todo: get the first digits of the numbers\n",
    "first_digits = [n // 10 for n in numbers]\n",
    "print(first_digits)\n",
    "# Todo: get the corresponding negative numbers from the list\n",
    "negatives = [-n for n in numbers]\n",
    "print(negatives)"
   ]
  },
  {
   "cell_type": "code",
   "execution_count": 2,
   "metadata": {},
   "outputs": [
    {
     "name": "stdout",
     "output_type": "stream",
     "text": [
      "['John', 'Paul', 'George', 'Ringo']\n",
      "['Lennon', 'McCartney', 'Harrison', 'Starr']\n"
     ]
    }
   ],
   "source": [
    "names = ['John Yoko Lennon', 'Paul McCartney', 'George Harrison', 'Ringo Starr']\n",
    "# get first names\n",
    "first_names = [n.split()[0] for n in names]\n",
    "print(first_names)\n",
    "# get last names\n",
    "last_names = [n.split()[-1] for n in names]\n",
    "print(last_names)"
   ]
  },
  {
   "cell_type": "code",
   "execution_count": 26,
   "metadata": {},
   "outputs": [
    {
     "name": "stdout",
     "output_type": "stream",
     "text": [
      "[88, 65, 14, 64, 71, 27, 14, 82, 51, 40]\n",
      "[65, 71, 27, 51]\n",
      "[88, 65, 64, 71, 82, 51]\n",
      "[14, 27, 14, 51, 40]\n"
     ]
    }
   ],
   "source": [
    "print(numbers)\n",
    "# get even numbers\n",
    "evens = [n for n in numbers if n % 2 == 0]\n",
    "# Todo: get odd numbers\n",
    "odds = [n for n in numbers if n % 2 == 1]\n",
    "print(odds)\n",
    "# Todo: get the numbers that is greater than 50\n",
    "big50 = [n for n in numbers if n > 50]\n",
    "print(big50)\n",
    "# Todo: calculate the average then get the numbers that is less than the average\n",
    "avg = sum(numbers) / len(numbers)\n",
    "less_avg = [n for n in numbers if n < avg]\n",
    "print(less_avg)"
   ]
  },
  {
   "cell_type": "code",
   "execution_count": 8,
   "metadata": {},
   "outputs": [
    {
     "name": "stdout",
     "output_type": "stream",
     "text": [
      "['pencil', 'eraser', 'ruler']\n",
      "['pencil', 'eraser', 'ruler']\n",
      "['ruler', 'notebook']\n",
      "4560\n",
      "2720.0\n"
     ]
    }
   ],
   "source": [
    "products_list = [('pencil', 0.5, 1000), # (name, price, number of items)\n",
    "                 ('pen', 1.5, 260), \n",
    "                 ('eraser', 0.2, 2200),\n",
    "                 ('ruler', 0.8, 800),\n",
    "                 ('notebook', 2.5, 300)]\n",
    "# Find the products that has price < 1.0\n",
    "cheap_products = [p[0] for p in products_list if p[1] < 1.0]\n",
    "print(cheap_products)\n",
    "\n",
    "# Find the products that has number of items > 500\n",
    "bignumber_products = [p[0] for p in products_list if p[2] > 500]\n",
    "print(bignumber_products)\n",
    "# Find the products that has revenue >= 600\n",
    "large_revenue = [p[0] for p in products_list if p[1] * p[2] >= 600]\n",
    "print(large_revenue)\n",
    "# Calculate the total number of all products in the inventory\n",
    "total_number_items = sum([p[2] for p in products_list])\n",
    "print(total_number_items)\n",
    "# Calculate the total revenue of all products in the inventory\n",
    "total_revenue = sum([p[1] * p[2] for p in products_list])\n",
    "print(total_revenue)"
   ]
  },
  {
   "cell_type": "code",
   "execution_count": null,
   "metadata": {},
   "outputs": [],
   "source": [
    "print(names)\n",
    "for i in range(len(names)):\n",
    "    print(i+1, names[i])\n",
    "\n",
    "for i, name in enumerate(names):\n",
    "    print(i+1, name)"
   ]
  },
  {
   "cell_type": "code",
   "execution_count": null,
   "metadata": {},
   "outputs": [],
   "source": [
    "for i in range(len(products_list)):\n",
    "    print(i+1, products_list[i][0], products_list[i][1], products_list[i][2])\n",
    "\n",
    "for i, p in enumerate(products_list):\n",
    "    print(i+1, p[0], p[1], p[2])"
   ]
  }
 ],
 "metadata": {
  "kernelspec": {
   "display_name": "Python 3",
   "language": "python",
   "name": "python3"
  },
  "language_info": {
   "codemirror_mode": {
    "name": "ipython",
    "version": 3
   },
   "file_extension": ".py",
   "mimetype": "text/x-python",
   "name": "python",
   "nbconvert_exporter": "python",
   "pygments_lexer": "ipython3",
   "version": "3.9.12"
  },
  "orig_nbformat": 4
 },
 "nbformat": 4,
 "nbformat_minor": 2
}

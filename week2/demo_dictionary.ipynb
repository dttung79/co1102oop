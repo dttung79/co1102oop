{
 "cells": [
  {
   "cell_type": "code",
   "execution_count": null,
   "metadata": {},
   "outputs": [],
   "source": [
    "# declare a dictionary (a collection of key-value pairs)\n",
    "english_vn = {'hello': 'xin chao', 'goodbye': 'tam biet', 'thank you': 'cam on'}\n",
    "print(english_vn['hello'])\n",
    "print(english_vn['goodbye'])\n",
    "print(english_vn['thank']) # KeyError because 'thank' is not a key in the dictionary"
   ]
  },
  {
   "cell_type": "code",
   "execution_count": 4,
   "metadata": {},
   "outputs": [
    {
     "name": "stdout",
     "output_type": "stream",
     "text": [
      "{'hello': 'xin chao', 'goodbye': 'tam biet', 'thank you': 'cam on', 'table': 'ban', 'chair': 'ghe'}\n"
     ]
    }
   ],
   "source": [
    "# Add new key-value pair to the dictionary: english_vn[new_key] = value\n",
    "eng_word = input('Enter a new English word: ')\n",
    "if eng_word in english_vn:\n",
    "    print('This word already exists in the dictionary')\n",
    "else:\n",
    "    vn_word = input('Enter a new Vietnamese word: ')\n",
    "    english_vn[eng_word] = vn_word\n",
    "    print(english_vn)"
   ]
  },
  {
   "cell_type": "code",
   "execution_count": 5,
   "metadata": {},
   "outputs": [
    {
     "name": "stdout",
     "output_type": "stream",
     "text": [
      "{'hello': 'chao', 'goodbye': 'tam biet', 'thank you': 'cam on', 'table': 'ban', 'chair': 'ghe'}\n"
     ]
    }
   ],
   "source": [
    "# Edit current key-value pair\n",
    "eng_word = input('Enter an English word to edit: ')\n",
    "if eng_word not in english_vn:\n",
    "    print('This word does not exist in the dictionary')\n",
    "else:\n",
    "    vn_word = input('Enter a new Vietnamese word: ')\n",
    "    english_vn[eng_word] = vn_word\n",
    "    print(english_vn)"
   ]
  },
  {
   "cell_type": "code",
   "execution_count": 7,
   "metadata": {},
   "outputs": [
    {
     "name": "stdout",
     "output_type": "stream",
     "text": [
      "chair has been deleted from the dictionary\n",
      "{'hello': 'chao', 'goodbye': 'tam biet', 'thank you': 'cam on', 'table': 'ban'}\n"
     ]
    }
   ],
   "source": [
    "# Delete a current key-value pair\n",
    "eng_word = input('Enter an English word to delete: ')\n",
    "if eng_word not in english_vn:\n",
    "    print('This word does not exist in the dictionary')\n",
    "else:\n",
    "    del english_vn[eng_word] # alternative: english_vn.pop(eng_word)\n",
    "    print(eng_word, 'has been deleted from the dictionary')\n",
    "    print(english_vn)"
   ]
  }
 ],
 "metadata": {
  "kernelspec": {
   "display_name": "Python 3",
   "language": "python",
   "name": "python3"
  },
  "language_info": {
   "codemirror_mode": {
    "name": "ipython",
    "version": 3
   },
   "file_extension": ".py",
   "mimetype": "text/x-python",
   "name": "python",
   "nbconvert_exporter": "python",
   "pygments_lexer": "ipython3",
   "version": "3.9.12"
  },
  "orig_nbformat": 4
 },
 "nbformat": 4,
 "nbformat_minor": 2
}
